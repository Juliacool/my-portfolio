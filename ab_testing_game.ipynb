{
 "cells": [
  {
   "attachments": {},
   "cell_type": "markdown",
   "metadata": {},
   "source": [
    "# A/B Testing for the Cookie Cats Mobile Game\n",
    "## contents\n",
    "### 1. Problem formulation and expected result\n",
    "### 2. Preparation\n",
    "#### 2.1. Load packages and settings\n",
    "#### 2.2. Load data\n",
    "### 3. Data inspection & Exploaratory analysis\n",
    "#### 3.1. Sample size and other column meanings\n",
    "#### 3.2. check the null value\n",
    "#### 3.3. check distribution\n",
    "### 4. Interpret A/B Testing results\n",
    "#### 4.1. Explaination\n",
    "#### 4.2. Pearson's chi-test\n",
    "#### 4.3. check out the retention rate\n",
    "### 5. recommendation\n"
   ]
  },
  {
   "attachments": {},
   "cell_type": "markdown",
   "metadata": {},
   "source": [
    "## 1. Problem formulation and expected result\n",
    "### The Cookie Cat Mobile game is a game in which the players progress though the game, while they do that, they encounter gates where they have to wait to go to the next game. The current first gate appears at level 30, and we would like to know if the retention rate of the players change, if the first gate appears at a different level (level 40). A/B Testing is a way to test it.\n",
    "### Here are some steps before the A/B Testing:\n",
    "#### a. Prerequisites\n",
    "##### a.1. Hypothesis: \n",
    "##### H0: There is no difference between the retention of the user whether the gate is at level 40 or level 30\n",
    "##### H1: There is a difference between the retention of the user when the gate is at level 40 instead of level 30\n",
    "##### a.2. Decide the key metric: \n",
    "##### when all over conditions stay the same, the key metric should be able to reflect the change of the independent variable (level when the gate appears). In this case, the key metric is the retention of the users.\n",
    "#### b. Experiment design - since the experiment data is given, let's discover some of the information listed below through exploratory analysis and use the business standard significance level.\n",
    "##### b.1. Population: players that installed the game\n",
    "##### b.2. Sample size: 90189\n",
    "##### b.4. Significance level: 0.05\n",
    "#### After that, let us analyze the data to make sure the data is reliable and interpret the results."
   ]
  },
  {
   "attachments": {},
   "cell_type": "markdown",
   "metadata": {},
   "source": [
    "## 2. Preparation\n",
    "### 2.1.  Load packages and settings"
   ]
  },
  {
   "cell_type": "code",
   "execution_count": 1,
   "metadata": {},
   "outputs": [],
   "source": [
    "#load packages\n",
    "import os\n",
    "import numpy as np\n",
    "import pandas as pd\n",
    "from matplotlib import pyplot as plt\n",
    "import seaborn as sns\n",
    "from scipy.stats import chi2_contingency"
   ]
  },
  {
   "cell_type": "code",
   "execution_count": 2,
   "metadata": {},
   "outputs": [],
   "source": [
    "#set the plot size\n",
    "sns.set(rc = {'figure.figsize':(12,10)})"
   ]
  },
  {
   "cell_type": "code",
   "execution_count": 3,
   "metadata": {},
   "outputs": [],
   "source": [
    "#see all columns\n",
    "pd.set_option('display.max_columns', None)"
   ]
  },
  {
   "cell_type": "code",
   "execution_count": 4,
   "metadata": {},
   "outputs": [],
   "source": [
    "#change scientific numbers to float\n",
    "np.set_printoptions(formatter = {'float_kind':'{:f}'.format})"
   ]
  },
  {
   "cell_type": "code",
   "execution_count": 5,
   "metadata": {},
   "outputs": [],
   "source": [
    "# remove warnings\n",
    "import warnings\n",
    "warnings.simplefilter(action='ignore', category=FutureWarning)"
   ]
  },
  {
   "attachments": {},
   "cell_type": "markdown",
   "metadata": {},
   "source": [
    "### 2.2. Load data"
   ]
  },
  {
   "cell_type": "code",
   "execution_count": 6,
   "metadata": {},
   "outputs": [],
   "source": [
    "raw_data = pd.read_csv('/Users/juli/Desktop/ML/cookie_cats.csv')"
   ]
  },
  {
   "attachments": {},
   "cell_type": "markdown",
   "metadata": {},
   "source": [
    "## 3. Data inspection & Exploaratory analysis\n",
    "### 3.1. Sample size and other column meanings"
   ]
  },
  {
   "cell_type": "code",
   "execution_count": 7,
   "metadata": {},
   "outputs": [
    {
     "data": {
      "text/html": [
       "<div>\n",
       "<style scoped>\n",
       "    .dataframe tbody tr th:only-of-type {\n",
       "        vertical-align: middle;\n",
       "    }\n",
       "\n",
       "    .dataframe tbody tr th {\n",
       "        vertical-align: top;\n",
       "    }\n",
       "\n",
       "    .dataframe thead th {\n",
       "        text-align: right;\n",
       "    }\n",
       "</style>\n",
       "<table border=\"1\" class=\"dataframe\">\n",
       "  <thead>\n",
       "    <tr style=\"text-align: right;\">\n",
       "      <th></th>\n",
       "      <th>userid</th>\n",
       "      <th>version</th>\n",
       "      <th>sum_gamerounds</th>\n",
       "      <th>retention_1</th>\n",
       "      <th>retention_7</th>\n",
       "    </tr>\n",
       "  </thead>\n",
       "  <tbody>\n",
       "    <tr>\n",
       "      <th>0</th>\n",
       "      <td>116</td>\n",
       "      <td>gate_30</td>\n",
       "      <td>3</td>\n",
       "      <td>False</td>\n",
       "      <td>False</td>\n",
       "    </tr>\n",
       "    <tr>\n",
       "      <th>1</th>\n",
       "      <td>337</td>\n",
       "      <td>gate_30</td>\n",
       "      <td>38</td>\n",
       "      <td>True</td>\n",
       "      <td>False</td>\n",
       "    </tr>\n",
       "    <tr>\n",
       "      <th>2</th>\n",
       "      <td>377</td>\n",
       "      <td>gate_40</td>\n",
       "      <td>165</td>\n",
       "      <td>True</td>\n",
       "      <td>False</td>\n",
       "    </tr>\n",
       "    <tr>\n",
       "      <th>3</th>\n",
       "      <td>483</td>\n",
       "      <td>gate_40</td>\n",
       "      <td>1</td>\n",
       "      <td>False</td>\n",
       "      <td>False</td>\n",
       "    </tr>\n",
       "    <tr>\n",
       "      <th>4</th>\n",
       "      <td>488</td>\n",
       "      <td>gate_40</td>\n",
       "      <td>179</td>\n",
       "      <td>True</td>\n",
       "      <td>True</td>\n",
       "    </tr>\n",
       "  </tbody>\n",
       "</table>\n",
       "</div>"
      ],
      "text/plain": [
       "   userid  version  sum_gamerounds  retention_1  retention_7\n",
       "0     116  gate_30               3        False        False\n",
       "1     337  gate_30              38         True        False\n",
       "2     377  gate_40             165         True        False\n",
       "3     483  gate_40               1        False        False\n",
       "4     488  gate_40             179         True         True"
      ]
     },
     "execution_count": 7,
     "metadata": {},
     "output_type": "execute_result"
    }
   ],
   "source": [
    "#check the first 5 rows\n",
    "raw_data.head()"
   ]
  },
  {
   "cell_type": "code",
   "execution_count": 8,
   "metadata": {},
   "outputs": [
    {
     "data": {
      "text/plain": [
       "(90189, 5)"
      ]
     },
     "execution_count": 8,
     "metadata": {},
     "output_type": "execute_result"
    }
   ],
   "source": [
    "#check the amount of rows and columns\n",
    "raw_data.shape"
   ]
  },
  {
   "cell_type": "code",
   "execution_count": 9,
   "metadata": {},
   "outputs": [
    {
     "name": "stdout",
     "output_type": "stream",
     "text": [
      "userid\n",
      "[    116     337     377 ... 9999710 9999768 9999861]\n",
      "90189\n",
      "\n",
      "\n",
      "version\n",
      "['gate_30' 'gate_40']\n",
      "2\n",
      "\n",
      "\n",
      "sum_gamerounds\n",
      "[    3    38   165     1   179   187     0     2   108   153    30    39\n",
      "   305    73    14   204     9     5    45   105     4    80    53    37\n",
      "    13    50   202    23   103    27    15    49     7   386    25    12\n",
      "     6    29   136    10    76   138    94    26   127    21   297    33\n",
      "   139    19    16    95     8   106    22    11   246    54    66   122\n",
      "    75    17    24    47    31    34    56    60    67    42    65   129\n",
      "    51    46   104    36    20    74    72    18    79    99    91   149\n",
      "    68   277   493   274    32    85   191   115   134   152   100   250\n",
      "   147   391    61    57    35    77   197    69   260    48   270    59\n",
      "   141   467    40    43    93   222   334    58    84    41   303   177\n",
      "   216   227    87    71   567    55    78   552    96   107    28   113\n",
      "   339   452   148   163   220    63   290    86   356   117   298   338\n",
      "   170   174    70   543   399   237   902   125   269   510    62    52\n",
      "   474    83   121   210  1906   199   118   259    98   128   215   231\n",
      "   160   110   275    44   133    88   282   132   183   112   332   798\n",
      "    81   142   143   114   186   164   249   345   546    82   394   258\n",
      "   375   109   158   519   553   175   123   281   240   317    90   190\n",
      "   192   343  1374   124   344   200    64   159   331   432   284   181\n",
      "   681   311   347   211   137   116   503   169   185   212   762   313\n",
      "   294   384   253   144   409   168   327   379   337   470   378   288\n",
      "   435   229   402   388   255   320   256   934   292   155   462    89\n",
      "   217   299   196   393   750   459   261   208   131   226   784   314\n",
      "   101   195   469   383   228   324   102   613   194   178   514   154\n",
      "   286   589   570   245   162   289   359   151   146   126   238  1309\n",
      "   632   899   111   329   161   878   232   145   167   387   312   184\n",
      "   279   166   355   135  1252   278   385    97  1315   464   230   254\n",
      "   176   456   316    92   600   414   223   219   287   173   667   579\n",
      "   302   372   975   341   241   330   206   785   947   429   346   182\n",
      "   236   213   513   373   454   188   248   434   442   461   276   120\n",
      "   189   180   157   521   927   296   244   150   342   619   264   265\n",
      "   233   171   368   349   130   205   511   824   764   571   609   201\n",
      "   268   357   156   207   119  1425   428   140   235   361   678   367\n",
      "   648   285   577   209   293   738   584   441   306   221   422   354\n",
      "   198   525   633   300   307   364   669   718   447   243   340   400\n",
      "  1446   382   262   193   263   395   315   308   266   348   599   376\n",
      "   438   425   203   242   463   301   291   560   218   239   381   433\n",
      "   439   548   833  2015   247   886   257   365   360   697   412   272\n",
      "   637   490   396   720   295   597   603   707   663   406   549   172\n",
      "   403   709   421   271   377   319   225   426  2961   494   214   431\n",
      "   437   547   304   480   532   267   323   666   590   509  1366   702\n",
      "   500   380   608   251   371   610   791   664   472   366   499   353\n",
      "   585   536   566   390   389   430   419   351   309   350   423   620\n",
      "   473  1063   522   413   310   362   397   508   771   484   326   588\n",
      "   283   647   624  1035   458   505   515   398  1573   479   455   273\n",
      "   640   491   755  1000   802   644   614   392  1697  1209   662   531\n",
      "   460  1643   913  1027   252   728   679   563   457   575  1705  1347\n",
      "   710   488   518   657   498   688   550   741   721   604   528   436\n",
      "   449   336   495   465   358   574   602   696   816   840   642   625\n",
      "   420   321   704   318  1308   587  1025   370   523   700   656   650\n",
      "   756   726   489   440   803   453   809   328   325   622  1816   322\n",
      "  1075   485   851   478   638  1687   224   920   352   716   475   582\n",
      "   405   654   692   837   417   645   545   701   482   698   407   544\n",
      "   754   705   424   496   483   672   540   722   712   363   607   601\n",
      "  1013   786   655   538   799   594   875   819  1159   280   569   928\n",
      "  1079   554   735   541   234   748   404   535   451   794   410   892\n",
      "   487   507  1413   477   517   910  1245  1300   673  1559   859   651\n",
      "   551   444   415  1097  1491   583  1522   555   497  1061  1714   675\n",
      "   526   852   997   847   559   335   580   443   481   723   787   766\n",
      "   691   564   466   418   788   512   450  1187  2640   890   573   542\n",
      "   427   732   611   446   516   736  1010   781   408   671   562  1011\n",
      "   879   869  1043   759   882   416   636  1323   939   411   827  1049\n",
      "   586   783   628   504   674   593  1303   476   374  2124   801   933\n",
      "   855   445   641   617   605   369   333   468  1462   524   537   561\n",
      "   578   530  1558  1142   506   529   534   615   763   717   793  1469\n",
      "  1528   897  1026   401  1267   825   970  2438   858  1102   618   849\n",
      "  1156   775   831   917   810   591   838  2251   751   817   558  1074\n",
      "   520   677   694   828   527  2294   734   689  1113   653   639  1091\n",
      "  1324   682   693   743  1457   630  1170   471   800  1044  1544   627\n",
      "  1215   592   747  1028  1132  1272   539   557  1427   765  1072  1095\n",
      "   733   725   612   830   874   823  1247   871   703   944   533 49854\n",
      "   918   713   668   714   727   501   486   853   665   576  1370   924\n",
      "  1196   621   887  1058   767  1038  1017   761   861  1155  1230   502\n",
      "   980  1024   753   629  1037  1090   729  1355   739   715   606  1009\n",
      "   659  1108   492   565   822  1266   993   719   706   885  1105   778\n",
      "   909  1039   936   757   634   581   616   595   860  1337   623   929\n",
      "  1098   812  1307  1241   556   448   841   598  1067   813   821   884\n",
      "   769  1101  1529  1288   985   877  1002  1138   670   981   829  1667\n",
      "   635  1200  1490   965   792  1274  1145   776  1082   711  2156   926\n",
      "   658   572  2063   846   768   708]\n",
      "942\n",
      "\n",
      "\n",
      "retention_1\n",
      "[False  True]\n",
      "2\n",
      "\n",
      "\n",
      "retention_7\n",
      "[False  True]\n",
      "2\n",
      "\n",
      "\n"
     ]
    }
   ],
   "source": [
    "# check the unique values in each column\n",
    "for col in raw_data:\n",
    "    print(col)\n",
    "    print(raw_data[col].unique())\n",
    "    print(len(raw_data[col].unique()))\n",
    "    print('\\n')"
   ]
  },
  {
   "attachments": {},
   "cell_type": "markdown",
   "metadata": {},
   "source": [
    "##### The sample size of the experiment is 90189 and every user id is unique.\n",
    "##### Other column meanings: \n",
    "##### - version: whether the players are put in the control group (gate_30) or the treatment group (gate_40). When a player installed the game, he or she was randomly assigned to either.\n",
    "##### - sum_gamerounds: the number of game rounds played by the player during the first 14 days after install.\n",
    "##### - retention_1: Did the player come back and play 1 day after installing?\n",
    "##### - retention_7: Did the player come back and play 7 days after installing?"
   ]
  },
  {
   "attachments": {},
   "cell_type": "markdown",
   "metadata": {},
   "source": [
    "### 3.2. check the null value"
   ]
  },
  {
   "cell_type": "code",
   "execution_count": 10,
   "metadata": {},
   "outputs": [
    {
     "data": {
      "text/plain": [
       "userid            0\n",
       "version           0\n",
       "sum_gamerounds    0\n",
       "retention_1       0\n",
       "retention_7       0\n",
       "dtype: int64"
      ]
     },
     "execution_count": 10,
     "metadata": {},
     "output_type": "execute_result"
    }
   ],
   "source": [
    "raw_data.isnull().sum()"
   ]
  },
  {
   "attachments": {},
   "cell_type": "markdown",
   "metadata": {},
   "source": [
    "##### There is no null value"
   ]
  },
  {
   "attachments": {},
   "cell_type": "markdown",
   "metadata": {},
   "source": [
    "### 3.3. check distribution"
   ]
  },
  {
   "cell_type": "code",
   "execution_count": 26,
   "metadata": {},
   "outputs": [
    {
     "data": {
      "text/plain": [
       "<seaborn.axisgrid.FacetGrid at 0x7f9cc34af340>"
      ]
     },
     "execution_count": 26,
     "metadata": {},
     "output_type": "execute_result"
    },
    {
     "data": {
      "image/png": "[encoded data removed]",
      "text/plain": [
       "<Figure size 610.125x500 with 1 Axes>"
      ]
     },
     "metadata": {},
     "output_type": "display_data"
    }
   ],
   "source": [
    "# check the distribution of the control and treatment groups\n",
    "sns.displot(data=raw_data, x='version', hue='version')"
   ]
  },
  {
   "attachments": {},
   "cell_type": "markdown",
   "metadata": {},
   "source": [
    "##### the players assigned to both groups are about the same amount"
   ]
  },
  {
   "cell_type": "code",
   "execution_count": 44,
   "metadata": {},
   "outputs": [
    {
     "data": {
      "text/plain": [
       "<seaborn.axisgrid.FacetGrid at 0x7f9caced4040>"
      ]
     },
     "execution_count": 44,
     "metadata": {},
     "output_type": "execute_result"
    },
    {
     "data": {
      "image/png": "[encoded data removed]",
      "text/plain": [
       "<Figure size 610.125x500 with 1 Axes>"
      ]
     },
     "metadata": {},
     "output_type": "display_data"
    }
   ],
   "source": [
    "# check the distribution of the number of game rounds played during the first 14 days after installed  v.s. control and treatment group\n",
    "sns.displot(raw_data[raw_data['sum_gamerounds']<=50], x='sum_gamerounds', hue='version', multiple='stack')"
   ]
  },
  {
   "attachments": {},
   "cell_type": "markdown",
   "metadata": {},
   "source": [
    "##### since there is extreme outlier who is playing the game about 50000 times, and most of the players play no more than 50 times, let's see the distribution of the players playing up till 50 times. In general, more game rounds are played by the players assigned to the control group."
   ]
  },
  {
   "cell_type": "code",
   "execution_count": 47,
   "metadata": {},
   "outputs": [
    {
     "data": {
      "text/plain": [
       "<AxesSubplot:xlabel='retention_1', ylabel='count'>"
      ]
     },
     "execution_count": 47,
     "metadata": {},
     "output_type": "execute_result"
    },
    {
     "data": {
      "image/png": "[encoded data removed]",
      "text/plain": [
       "<Figure size 1200x1000 with 1 Axes>"
      ]
     },
     "metadata": {},
     "output_type": "display_data"
    }
   ],
   "source": [
    "# the distribution of retentions v.s. control and treatment group\n",
    "# players coming back 1 day after installing the game\n",
    "sns.countplot(raw_data, x='retention_1', hue='version')"
   ]
  },
  {
   "attachments": {},
   "cell_type": "markdown",
   "metadata": {},
   "source": [
    "##### Players from both groups have about the same amount of players comeing back/not coming back 1 day after installing the game. "
   ]
  },
  {
   "cell_type": "code",
   "execution_count": 48,
   "metadata": {},
   "outputs": [
    {
     "data": {
      "text/plain": [
       "<AxesSubplot:xlabel='retention_7', ylabel='count'>"
      ]
     },
     "execution_count": 48,
     "metadata": {},
     "output_type": "execute_result"
    },
    {
     "data": {
      "image/png": "[encoded data removed]",
      "text/plain": [
       "<Figure size 1200x1000 with 1 Axes>"
      ]
     },
     "metadata": {},
     "output_type": "display_data"
    }
   ],
   "source": [
    "# players coming back 7 day after installing the game\n",
    "sns.countplot(raw_data, x='retention_7', hue='version')"
   ]
  },
  {
   "attachments": {},
   "cell_type": "markdown",
   "metadata": {},
   "source": [
    "##### 7 days after installing the game, way less players from both groups returned to the game. However, players from both groups have about the same amount of players comeing back/not coming back 7 day after installing the game. \n",
    "\n",
    "##### It seems like there's not much difference of the user retention between the two groups, but there seems to be a big difference of the game rounds played withing 14 days after installing between the two groups.\n",
    "\n",
    "##### However, the test is about retention, so let's interpret the result of A/B Testing to see if it really makes a difference of user retention by changing the gate level."
   ]
  },
  {
   "attachments": {},
   "cell_type": "markdown",
   "metadata": {},
   "source": [
    "## 4. Interpret A/B Testing results\n",
    "### 4.1. Explaination\n",
    "##### H0: There is no difference between the retention of the user whether the gate is at level 40 or level 30.\n",
    "##### H1: There is a difference between the retention of the user when the gate is at level 40 instead of level 30.\n",
    "##### When the p-value < significance level (0.05), then we reject the H0."
   ]
  },
  {
   "attachments": {},
   "cell_type": "markdown",
   "metadata": {},
   "source": [
    "### 4.2. Pearson's chi-test\n",
    "##### Since the key metric has discrete values (True or False) and the sample size is large (90189), we use the Pearson's chi-test"
   ]
  },
  {
   "cell_type": "code",
   "execution_count": 49,
   "metadata": {},
   "outputs": [
    {
     "data": {
      "text/plain": [
       "version  retention_1\n",
       "gate_30  False          24666\n",
       "         True           20034\n",
       "gate_40  False          25370\n",
       "         True           20119\n",
       "dtype: int64"
      ]
     },
     "execution_count": 49,
     "metadata": {},
     "output_type": "execute_result"
    }
   ],
   "source": [
    "# retention for 1 day after installing the game\n",
    "# group by\n",
    "day_1 = raw_data.groupby(['version','retention_1']).size()\n",
    "day_1"
   ]
  },
  {
   "cell_type": "code",
   "execution_count": 51,
   "metadata": {},
   "outputs": [
    {
     "data": {
      "text/html": [
       "<div>\n",
       "<style scoped>\n",
       "    .dataframe tbody tr th:only-of-type {\n",
       "        vertical-align: middle;\n",
       "    }\n",
       "\n",
       "    .dataframe tbody tr th {\n",
       "        vertical-align: top;\n",
       "    }\n",
       "\n",
       "    .dataframe thead th {\n",
       "        text-align: right;\n",
       "    }\n",
       "</style>\n",
       "<table border=\"1\" class=\"dataframe\">\n",
       "  <thead>\n",
       "    <tr style=\"text-align: right;\">\n",
       "      <th></th>\n",
       "      <th>gate_30</th>\n",
       "      <th>gate_40</th>\n",
       "    </tr>\n",
       "  </thead>\n",
       "  <tbody>\n",
       "    <tr>\n",
       "      <th>True</th>\n",
       "      <td>20034</td>\n",
       "      <td>20119</td>\n",
       "    </tr>\n",
       "    <tr>\n",
       "      <th>False</th>\n",
       "      <td>24666</td>\n",
       "      <td>25370</td>\n",
       "    </tr>\n",
       "  </tbody>\n",
       "</table>\n",
       "</div>"
      ],
      "text/plain": [
       "       gate_30  gate_40\n",
       "True     20034    20119\n",
       "False    24666    25370"
      ]
     },
     "execution_count": 51,
     "metadata": {},
     "output_type": "execute_result"
    }
   ],
   "source": [
    "# transform to table\n",
    "retention_1 = pd.DataFrame(data=[[20034,20119],[24666,25370]],\n",
    "                  index=[\"True\",\"False\"],\n",
    "                  columns=[\"gate_30\",\"gate_40\"])\n",
    "retention_1"
   ]
  },
  {
   "cell_type": "code",
   "execution_count": 52,
   "metadata": {},
   "outputs": [
    {
     "data": {
      "text/plain": [
       "0.07440965529692188"
      ]
     },
     "execution_count": 52,
     "metadata": {},
     "output_type": "execute_result"
    }
   ],
   "source": [
    "# run test\n",
    "chi2_val, p_val = chi2_contingency(retention_1.values, correction=False)[:2]\n",
    "\n",
    "alpha=0.05\n",
    "\n",
    "p_val\n"
   ]
  },
  {
   "attachments": {},
   "cell_type": "markdown",
   "metadata": {},
   "source": [
    "##### Since the p-value is more than 0.05, we accept the H0, that means There is no difference between the retention 1 day after installing the game whether the gate is at level 40 or level 30."
   ]
  },
  {
   "cell_type": "code",
   "execution_count": 53,
   "metadata": {},
   "outputs": [
    {
     "data": {
      "text/plain": [
       "version  retention_7\n",
       "gate_30  False          36198\n",
       "         True            8502\n",
       "gate_40  False          37210\n",
       "         True            8279\n",
       "dtype: int64"
      ]
     },
     "execution_count": 53,
     "metadata": {},
     "output_type": "execute_result"
    }
   ],
   "source": [
    "# retention for 7 day after installing the game\n",
    "# group by\n",
    "day_7 = raw_data.groupby(['version','retention_7']).size()\n",
    "day_7"
   ]
  },
  {
   "cell_type": "code",
   "execution_count": 54,
   "metadata": {},
   "outputs": [
    {
     "data": {
      "text/html": [
       "<div>\n",
       "<style scoped>\n",
       "    .dataframe tbody tr th:only-of-type {\n",
       "        vertical-align: middle;\n",
       "    }\n",
       "\n",
       "    .dataframe tbody tr th {\n",
       "        vertical-align: top;\n",
       "    }\n",
       "\n",
       "    .dataframe thead th {\n",
       "        text-align: right;\n",
       "    }\n",
       "</style>\n",
       "<table border=\"1\" class=\"dataframe\">\n",
       "  <thead>\n",
       "    <tr style=\"text-align: right;\">\n",
       "      <th></th>\n",
       "      <th>gate_30</th>\n",
       "      <th>gate_40</th>\n",
       "    </tr>\n",
       "  </thead>\n",
       "  <tbody>\n",
       "    <tr>\n",
       "      <th>True</th>\n",
       "      <td>8502</td>\n",
       "      <td>8279</td>\n",
       "    </tr>\n",
       "    <tr>\n",
       "      <th>False</th>\n",
       "      <td>36198</td>\n",
       "      <td>37210</td>\n",
       "    </tr>\n",
       "  </tbody>\n",
       "</table>\n",
       "</div>"
      ],
      "text/plain": [
       "       gate_30  gate_40\n",
       "True      8502     8279\n",
       "False    36198    37210"
      ]
     },
     "execution_count": 54,
     "metadata": {},
     "output_type": "execute_result"
    }
   ],
   "source": [
    "# transform to table\n",
    "retention_7 = pd.DataFrame(data=[[8502,8279],[36198,37210]],\n",
    "                  index=[\"True\",\"False\"],\n",
    "                  columns=[\"gate_30\",\"gate_40\"])\n",
    "retention_7"
   ]
  },
  {
   "cell_type": "code",
   "execution_count": 55,
   "metadata": {},
   "outputs": [
    {
     "data": {
      "text/plain": [
       "0.0015542499756142805"
      ]
     },
     "execution_count": 55,
     "metadata": {},
     "output_type": "execute_result"
    }
   ],
   "source": [
    "chi2_val, p_val = chi2_contingency(retention_7.values, correction=False)[:2]\n",
    "\n",
    "alpha=0.05\n",
    "\n",
    "p_val"
   ]
  },
  {
   "attachments": {},
   "cell_type": "markdown",
   "metadata": {},
   "source": [
    "##### Since the p-value is less than 0.05, we reject the H0, that means There is a difference between the retention 7 day after installing the game when the gate is at level 40 instead of level 30."
   ]
  },
  {
   "attachments": {},
   "cell_type": "markdown",
   "metadata": {},
   "source": [
    "### 4.3. check out the retention rate"
   ]
  },
  {
   "cell_type": "code",
   "execution_count": 58,
   "metadata": {},
   "outputs": [
    {
     "data": {
      "text/html": [
       "<div>\n",
       "<style scoped>\n",
       "    .dataframe tbody tr th:only-of-type {\n",
       "        vertical-align: middle;\n",
       "    }\n",
       "\n",
       "    .dataframe tbody tr th {\n",
       "        vertical-align: top;\n",
       "    }\n",
       "\n",
       "    .dataframe thead th {\n",
       "        text-align: right;\n",
       "    }\n",
       "</style>\n",
       "<table border=\"1\" class=\"dataframe\">\n",
       "  <thead>\n",
       "    <tr style=\"text-align: right;\">\n",
       "      <th>version</th>\n",
       "      <th>gate_30</th>\n",
       "      <th>gate_40</th>\n",
       "    </tr>\n",
       "  </thead>\n",
       "  <tbody>\n",
       "    <tr>\n",
       "      <th>30</th>\n",
       "      <td>0.448188</td>\n",
       "      <td>0.442283</td>\n",
       "    </tr>\n",
       "  </tbody>\n",
       "</table>\n",
       "</div>"
      ],
      "text/plain": [
       "version   gate_30   gate_40\n",
       "30       0.448188  0.442283"
      ]
     },
     "execution_count": 58,
     "metadata": {},
     "output_type": "execute_result"
    }
   ],
   "source": [
    "# retention rate of 1 day after installing gate level 40 v.s. gate level 30\n",
    "raw_data.groupby('version')['retention_1'].sum() / raw_data.groupby('version')['retention_1'].count().to_frame(30).T"
   ]
  },
  {
   "attachments": {},
   "cell_type": "markdown",
   "metadata": {},
   "source": [
    "##### The retention rate of 1 day after installing the game for gate level 40 is about 0.006 lower than gate level 30."
   ]
  },
  {
   "cell_type": "code",
   "execution_count": 59,
   "metadata": {},
   "outputs": [
    {
     "data": {
      "text/html": [
       "<div>\n",
       "<style scoped>\n",
       "    .dataframe tbody tr th:only-of-type {\n",
       "        vertical-align: middle;\n",
       "    }\n",
       "\n",
       "    .dataframe tbody tr th {\n",
       "        vertical-align: top;\n",
       "    }\n",
       "\n",
       "    .dataframe thead th {\n",
       "        text-align: right;\n",
       "    }\n",
       "</style>\n",
       "<table border=\"1\" class=\"dataframe\">\n",
       "  <thead>\n",
       "    <tr style=\"text-align: right;\">\n",
       "      <th>version</th>\n",
       "      <th>gate_30</th>\n",
       "      <th>gate_40</th>\n",
       "    </tr>\n",
       "  </thead>\n",
       "  <tbody>\n",
       "    <tr>\n",
       "      <th>30</th>\n",
       "      <td>0.190201</td>\n",
       "      <td>0.182</td>\n",
       "    </tr>\n",
       "  </tbody>\n",
       "</table>\n",
       "</div>"
      ],
      "text/plain": [
       "version   gate_30  gate_40\n",
       "30       0.190201    0.182"
      ]
     },
     "execution_count": 59,
     "metadata": {},
     "output_type": "execute_result"
    }
   ],
   "source": [
    "# retention rate of 7 day after installing gate level 40 v.s. gate level 30\n",
    "raw_data.groupby('version')['retention_7'].sum() / raw_data.groupby('version')['retention_7'].count().to_frame(30).T"
   ]
  },
  {
   "attachments": {},
   "cell_type": "markdown",
   "metadata": {},
   "source": [
    "##### The retention rate of 7 day after installing the game for gate level 40 is about 0.008 lower than gate level 30."
   ]
  },
  {
   "attachments": {},
   "cell_type": "markdown",
   "metadata": {},
   "source": [
    "## Recommendation\n",
    "##### There is no statistical significant difference bewteen gate level 40 and gate level 30 when it's 1 day after installing the game. However, there is a statistical significant difference bewteen gate level 40 and gate level 30 when it's 7 day after installing the game, and the retention rate is lower when the gate is at level 40. So the gate should stay at level 30 for now. \n",
    "##### We could explore further about the difference of the game rounds played between gate at level 30 or at a different level, since gate level as an independent veriable may impact the keys metrics in regard to game rounds."
   ]
  }
 ],
 "metadata": {
  "kernelspec": {
   "display_name": "mlenv",
   "language": "python",
   "name": "python3"
  },
  "language_info": {
   "codemirror_mode": {
    "name": "ipython",
    "version": 3
   },
   "file_extension": ".py",
   "mimetype": "text/x-python",
   "name": "python",
   "nbconvert_exporter": "python",
   "pygments_lexer": "ipython3",
   "version": "3.9.15"
  },
  "orig_nbformat": 4,
  "vscode": {
   "interpreter": {
    "hash": "6fb2b270f9c55c1fa86ca63fc874fb0def02279757778104d7387f36810e4489"
   }
  }
 },
 "nbformat": 4,
 "nbformat_minor": 2
}
